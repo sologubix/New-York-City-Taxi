{
 "cells": [
  {
   "cell_type": "code",
   "execution_count": 1,
   "metadata": {},
   "outputs": [
    {
     "name": "stderr",
     "output_type": "stream",
     "text": [
      "C:\\ProgramData\\Anaconda3\\lib\\site-packages\\sklearn\\cross_validation.py:41: DeprecationWarning: This module was deprecated in version 0.18 in favor of the model_selection module into which all the refactored classes and functions are moved. Also note that the interface of the new CV iterators are different from that of this module. This module will be removed in 0.20.\n",
      "  \"This module will be removed in 0.20.\", DeprecationWarning)\n"
     ]
    }
   ],
   "source": [
    "import numpy as np\n",
    "import pandas as pd\n",
    "from pandas import DataFrame, Series\n",
    "import time\n",
    "import xgboost as xgb\n",
    "import datetime as dt\n",
    "import datetime"
   ]
  },
  {
   "cell_type": "code",
   "execution_count": 7,
   "metadata": {},
   "outputs": [
    {
     "name": "stdout",
     "output_type": "stream",
     "text": [
      "Fun started at: 2018-08-20 16:03:07.821011\n",
      "2018-08-20 16:03:09.846733\n",
      "Everything done in 2.025721311569214 seconds\n"
     ]
    }
   ],
   "source": [
    "start = time.time()\n",
    "print('Fun started at: '+ str(datetime.datetime.now()))\n",
    "\n",
    "train = pd.read_csv('train.csv', low_memory=False, parse_dates=['pickup_datetime'], nrows=10000)\n",
    "\n",
    "done = time.time()\n",
    "elapsed = done - start\n",
    "print(datetime.datetime.now())\n",
    "print('Everything done in '+str(elapsed)+' seconds')\n",
    "\n",
    "test = pd.read_csv('test.csv', low_memory=False, parse_dates=['pickup_datetime'])\n",
    "sample_submission = pd.read_csv('sample_submission.csv', low_memory=False)\n",
    "holiday = pd.read_csv('usaholidayint.csv', low_memory=False)\n",
    "weather = pd.read_csv('central_park_weather.csv', low_memory=False)"
   ]
  },
  {
   "cell_type": "code",
   "execution_count": 8,
   "metadata": {},
   "outputs": [],
   "source": [
    "#Cleaning training set\n",
    "train = train[train.passenger_count < 10]\n",
    "train = train[train.passenger_count > 0]\n",
    "train = train[train.fare_amount >= 0]\n",
    "train = train.dropna(how = 'any', axis = 'rows')\n",
    "\n",
    "#Picking just NYC locations"
   ]
  },
  {
   "cell_type": "code",
   "execution_count": 9,
   "metadata": {},
   "outputs": [],
   "source": [
    "#Combining all the data sets\n",
    "test['fare_amount'] = 11.35\n",
    "test['dataset'] = 'test'\n",
    "train['dataset'] = 'train'\n",
    "data = pd.concat([train,test], axis=0)\n",
    "data = data[['dataset', 'key', 'fare_amount', 'pickup_datetime', 'pickup_latitude', 'pickup_longitude', \n",
    "      'dropoff_latitude', 'dropoff_longitude', 'passenger_count']]"
   ]
  },
  {
   "cell_type": "code",
   "execution_count": 10,
   "metadata": {},
   "outputs": [],
   "source": [
    "#Adding calendar and usa holiday variables\n",
    "#data_d = pd.to_datetime(data.pickup_datetime)\n",
    "#data['DATE'] = data_d.dt.date\n",
    "data['year'] = data.pickup_datetime.dt.year\n",
    "data['month'] = data.pickup_datetime.dt.month\n",
    "data['day'] = data.pickup_datetime.dt.day\n",
    "data['day_of_week'] = data.pickup_datetime.dt.weekday+1\n",
    "data['hour'] = data.pickup_datetime.dt.hour\n",
    "\n",
    "holiday_d = pd.to_datetime(holiday.DATE)\n",
    "holiday['year'] = holiday_d.dt.year\n",
    "holiday['month'] = holiday_d.dt.month\n",
    "holiday['day'] = holiday_d.dt.day\n",
    "holiday.drop(columns='DATE', inplace=True)\n",
    "\n",
    "data_t = data.merge(holiday, on=['year', 'month', 'day'], how='left')"
   ]
  },
  {
   "cell_type": "code",
   "execution_count": 11,
   "metadata": {},
   "outputs": [],
   "source": [
    "#Adding weather conditions\n",
    "weather.drop(columns=['STATION', 'NAME'], inplace = True)\n",
    "weather_d = pd.to_datetime(weather.DATE)\n",
    "weather['year'] = weather_d.dt.year\n",
    "weather['month'] = weather_d.dt.month\n",
    "weather['day'] = weather_d.dt.day\n",
    "weather.drop(columns='DATE', inplace=True)\n",
    "\n",
    "data_t = data_t.merge(weather, on=['year', 'month', 'day'], how='left')"
   ]
  },
  {
   "cell_type": "code",
   "execution_count": 12,
   "metadata": {},
   "outputs": [],
   "source": [
    "#Creating function for calculating trip_distnce\n",
    "def haversine_np(lon1, lat1, lon2, lat2):\n",
    "    \"\"\"\n",
    "    Calculate the great circle distance between two points\n",
    "    on the earth (specified in decimal degrees)\n",
    "\n",
    "    All args must be of equal length.    \n",
    "\n",
    "    \"\"\"\n",
    "    lon1, lat1, lon2, lat2 = map(np.radians, [lon1, lat1, lon2, lat2])\n",
    "\n",
    "    dlon = lon2 - lon1\n",
    "    dlat = lat2 - lat1\n",
    "\n",
    "    a = np.sin(dlat/2.0)**2 + np.cos(lat1) * np.cos(lat2) * np.sin(dlon/2.0)**2\n",
    "\n",
    "    c = 2 * np.arcsin(np.sqrt(a))\n",
    "    km = 6367 * c\n",
    "    return km\n",
    "\n",
    "data_t['trip_distance'] = haversine_np(data_t.pickup_longitude, data_t.pickup_latitude, \n",
    "                                       data_t.dropoff_longitude, data_t.dropoff_latitude)"
   ]
  },
  {
   "cell_type": "code",
   "execution_count": 13,
   "metadata": {},
   "outputs": [],
   "source": [
    "#Additional surcharges\n",
    "data_t.loc[(data_t.hour >= 20) | (data_t.hour < 6), 'surcharge'] = 0.5\n",
    "data_t.loc[(data_t.hour >= 16) & (data_t.hour < 20) & (data_t.day_of_week<6), 'rush_hour_surcharge'] = 1"
   ]
  },
  {
   "cell_type": "code",
   "execution_count": 14,
   "metadata": {},
   "outputs": [],
   "source": [
    "######################################FILL NA\n",
    "data_t.fillna(0, inplace=True)"
   ]
  },
  {
   "cell_type": "code",
   "execution_count": 15,
   "metadata": {},
   "outputs": [],
   "source": [
    "data_t.drop(columns='pickup_datetime', inplace=True)"
   ]
  },
  {
   "cell_type": "code",
   "execution_count": 16,
   "metadata": {},
   "outputs": [],
   "source": [
    "train = data_t[data_t.dataset == 'train']\n",
    "valid = data_t[data_t.dataset == 'test']\n",
    "train.reset_index(inplace=True, drop=True)\n",
    "valid.reset_index(inplace=True, drop=True)"
   ]
  },
  {
   "cell_type": "code",
   "execution_count": 18,
   "metadata": {},
   "outputs": [
    {
     "name": "stdout",
     "output_type": "stream",
     "text": [
      "Fun started at: 2018-08-20 16:03:56.301605\n",
      "2018-08-20 16:03:57.363142\n",
      "Everything done in 1.0615367889404297 seconds\n",
      "                            key  fare_amount\n",
      "0   2015-01-27 13:08:24.0000002     9.886044\n",
      "1   2015-01-27 13:08:24.0000003     9.796896\n",
      "2   2011-10-08 11:53:44.0000002     4.683535\n",
      "3   2012-12-01 21:12:12.0000002     9.330774\n",
      "4   2012-12-01 21:12:12.0000003    13.742714\n",
      "5   2012-12-01 21:12:12.0000005    10.258887\n",
      "6   2011-10-06 12:10:20.0000001     5.247399\n",
      "7   2011-10-06 12:10:20.0000003    54.283623\n",
      "8   2011-10-06 12:10:20.0000002    10.354189\n",
      "9   2014-02-18 15:22:20.0000002     7.002374\n",
      "10  2014-02-18 15:22:20.0000003    10.966789\n",
      "11  2014-02-18 15:22:20.0000001    17.550972\n",
      "12  2010-03-29 20:20:32.0000002     4.122919\n",
      "13  2010-03-29 20:20:32.0000001     6.200359\n",
      "14  2011-10-06 03:59:12.0000002     7.064167\n"
     ]
    }
   ],
   "source": [
    "start = time.time()\n",
    "print('Fun started at: '+ str(datetime.datetime.now()))\n",
    "\n",
    "train_x = train.iloc[:,3:]\n",
    "train_y = train.iloc[:,2]\n",
    "valid_x = valid.iloc[:,3:]\n",
    "valid_y = valid.iloc[:,2]\n",
    "train_xgb = xgb.DMatrix(train_x, label = train_y)\n",
    "valid_xgb = xgb.DMatrix(valid_x)\n",
    "\n",
    "param = {'objective' : 'reg:linear', 'seed' :12345, 'eval_metric':'rmse'}\n",
    "\n",
    "model = xgb.train(params = param,\n",
    "                  dtrain = train_xgb,\n",
    "                  num_boost_round = 100)\n",
    "\n",
    "\n",
    "prediction = model.predict(valid_xgb)\n",
    "prediction[prediction < 0.001] = 0\n",
    "\n",
    "results = DataFrame()\n",
    "results['key'] = valid.key\n",
    "results['fare_amount'] = prediction\n",
    "\n",
    "done = time.time()\n",
    "elapsed = done - start\n",
    "print(datetime.datetime.now())\n",
    "print('Everything done in '+str(elapsed)+' seconds')\n",
    "\n",
    "print(results.head(15))\n",
    "\n",
    "#results.to_csv('wyniki.csv')"
   ]
  },
  {
   "cell_type": "code",
   "execution_count": 19,
   "metadata": {},
   "outputs": [
    {
     "data": {
      "text/plain": [
       "(9914, 2)"
      ]
     },
     "execution_count": 19,
     "metadata": {},
     "output_type": "execute_result"
    }
   ],
   "source": [
    "results.shape"
   ]
  },
  {
   "cell_type": "code",
   "execution_count": null,
   "metadata": {},
   "outputs": [],
   "source": []
  }
 ],
 "metadata": {
  "kernelspec": {
   "display_name": "Python 3",
   "language": "python",
   "name": "python3"
  },
  "language_info": {
   "codemirror_mode": {
    "name": "ipython",
    "version": 3
   },
   "file_extension": ".py",
   "mimetype": "text/x-python",
   "name": "python",
   "nbconvert_exporter": "python",
   "pygments_lexer": "ipython3",
   "version": "3.6.4"
  },
  "varInspector": {
   "cols": {
    "lenName": 16,
    "lenType": 16,
    "lenVar": 40
   },
   "kernels_config": {
    "python": {
     "delete_cmd_postfix": "",
     "delete_cmd_prefix": "del ",
     "library": "var_list.py",
     "varRefreshCmd": "print(var_dic_list())"
    },
    "r": {
     "delete_cmd_postfix": ") ",
     "delete_cmd_prefix": "rm(",
     "library": "var_list.r",
     "varRefreshCmd": "cat(var_dic_list()) "
    }
   },
   "types_to_exclude": [
    "module",
    "function",
    "builtin_function_or_method",
    "instance",
    "_Feature"
   ],
   "window_display": false
  }
 },
 "nbformat": 4,
 "nbformat_minor": 2
}
