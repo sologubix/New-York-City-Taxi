{
 "cells": [
  {
   "cell_type": "markdown",
   "metadata": {},
   "source": [
    "## Predicting Tips on NYC TAXI dataset\n",
    "<br>\n",
    "1) Predicting if person will tip\n",
    "<br>\n",
    "2) Predicting the tip amount\n",
    "<br>\n",
    "\n",
    "After analyzing the tip situation, all cash payments didn't include tips (because tax payments), therefore the classification model instead of predicting tipping was predicting payment method..."
   ]
  },
  {
   "cell_type": "code",
   "execution_count": null,
   "metadata": {},
   "outputs": [],
   "source": [
    "import numpy as np\n",
    "import pandas as pd\n",
    "from pandas import DataFrame, Series\n",
    "import datetime\n",
    "import time\n",
    "import xgboost as xgb\n",
    "from sklearn.metrics import accuracy_score\n",
    "from sklearn.metrics import mean_absolute_error\n",
    "from sklearn.metrics import mean_absolute_error"
   ]
  },
  {
   "cell_type": "code",
   "execution_count": 2,
   "metadata": {},
   "outputs": [],
   "source": [
    "data = pd.read_csv('/home/asologuba/NYC_TAXI/TRIPS_ANALYTICS_10M.csv', low_memory=False)\n",
    "#Choosing only card payments\n",
    "data = data.loc[data.PAYMENT_TYPE == 1]\n",
    "data.drop(columns='PAYMENT_TYPE', inplace=True)"
   ]
  },
  {
   "cell_type": "markdown",
   "metadata": {},
   "source": [
    "Removing NaN values"
   ]
  },
  {
   "cell_type": "code",
   "execution_count": 3,
   "metadata": {},
   "outputs": [],
   "source": [
    "data.STORE_AND_FWD_FLAG.fillna(2, inplace=True)\n",
    "data.RATE_CODE_ID.fillna(0, inplace=True)\n",
    "data.PASSENGER_COUNT.fillna(0, inplace=True)\n",
    "data.MTA_TAX.fillna(0, inplace=True)\n",
    "data.IMPROVEMENT_SURCHARGE.fillna(0, inplace=True)\n",
    "data.TRIP_TYPE.fillna(0, inplace=True)\n",
    "data.dropna(axis=0, inplace = True)"
   ]
  },
  {
   "cell_type": "markdown",
   "metadata": {},
   "source": [
    "Removing outliers"
   ]
  },
  {
   "cell_type": "code",
   "execution_count": 4,
   "metadata": {},
   "outputs": [],
   "source": [
    "#Traveltime longer than 24h\n",
    "data = data.loc[data.TRAVELTIME <= 86400]\n",
    "#Removing trips without payments\n",
    "data = data.loc[data.FARE_AMOUNT > 0]"
   ]
  },
  {
   "cell_type": "markdown",
   "metadata": {},
   "source": [
    "New variables"
   ]
  },
  {
   "cell_type": "code",
   "execution_count": 5,
   "metadata": {},
   "outputs": [],
   "source": [
    "data['SPEED'] = data.TRIP_DISTANCE/(data.TRAVELTIME/3600)\n",
    "data.loc[data.TRAVELTIME == 0,'SPEED'] = 0\n",
    "data['PRICE_DISTANCE'] = data.FARE_AMOUNT/data.TRIP_DISTANCE\n",
    "data.loc[data.TRIP_DISTANCE == 0,'PRICE_DISTANCE'] = 0\n",
    "data['ALL_COSTS'] = data.FARE_AMOUNT + data.EXTRA + data.MTA_TAX + data.TOLLS_AMOUNT + data.IMPROVEMENT_SURCHARGE\n",
    "data['PASSENGER_PRICE'] = data.ALL_COSTS/data.PASSENGER_COUNT\n",
    "data.loc[data.PASSENGER_COUNT == 0,'PASSENGER_PRICE'] = 0"
   ]
  },
  {
   "cell_type": "code",
   "execution_count": 6,
   "metadata": {},
   "outputs": [],
   "source": [
    "train = data[data.YEAR < 2015]\n",
    "valid = data[data.YEAR == 2015]\n",
    "train.reset_index(inplace=True, drop=True)\n",
    "valid.reset_index(inplace=True, drop=True)"
   ]
  },
  {
   "cell_type": "markdown",
   "metadata": {},
   "source": [
    "# OLD LOGISTIC REGRESSION - DOES_TIP"
   ]
  },
  {
   "cell_type": "code",
   "execution_count": 89,
   "metadata": {},
   "outputs": [
    {
     "name": "stdout",
     "output_type": "stream",
     "text": [
      "Fun started at: 2018-08-16 12:32:28.093199\n",
      "2018-08-16 12:33:04.725711\n",
      "Everything done in 36.63248872756958 seconds\n",
      "Accuracy score 97.0507867756594\n"
     ]
    }
   ],
   "source": [
    "start = time.time()\n",
    "print('Fun started at: '+ str(datetime.datetime.now()))\n",
    "\n",
    "train_x = train.iloc[:,3:]\n",
    "train_y = train.iloc[:,1]\n",
    "valid_x = valid.iloc[:,3:]\n",
    "valid_y = valid.iloc[:,1]\n",
    "train_xgb = xgb.DMatrix(train_x, label = train_y)\n",
    "valid_xgb = xgb.DMatrix(valid_x)\n",
    "\n",
    "param = {'objective' : 'gpu:reg:logistic', 'tree_method':'gpu_hist', 'seed' :12345}\n",
    "\n",
    "model = xgb.train(params = param,\n",
    "                  dtrain = train_xgb,\n",
    "                  num_boost_round = 100)\n",
    "\n",
    "prediction = model.predict(valid_xgb)\n",
    "\n",
    "results = DataFrame()\n",
    "results['DOES_TIP_ACT'] = valid_y\n",
    "results['DOES_TIP_SCORE'] = prediction\n",
    "prediction[prediction < 0.5] = 0\n",
    "prediction[prediction >= 0.5] = 1\n",
    "results['DOES_TIP'] = prediction\n",
    "\n",
    "done = time.time()\n",
    "elapsed = done - start\n",
    "print(datetime.datetime.now())\n",
    "print('Everything done in '+str(elapsed)+' seconds')\n",
    "\n",
    "print('Accuracy score '+str(accuracy_score(valid_y, prediction)*100))"
   ]
  },
  {
   "cell_type": "markdown",
   "metadata": {},
   "source": [
    "# Predicting the tipping amount  (linear regression) - XGB"
   ]
  },
  {
   "cell_type": "code",
   "execution_count": 7,
   "metadata": {},
   "outputs": [
    {
     "name": "stdout",
     "output_type": "stream",
     "text": [
      "Fun started at: 2018-08-16 13:02:45.860189\n",
      "2018-08-16 13:02:59.508426\n",
      "Everything done in 13.648211240768433 seconds\n",
      "Accuracy for model 1: 0.85\n",
      "    TIP_AMOUNT_ACT  TIP_AMOUNT_FOR\n",
      "0             0.00        1.183753\n",
      "1             2.55        1.999796\n",
      "2             5.45        3.812779\n",
      "3             8.20        5.511556\n",
      "4             1.35        1.391471\n",
      "5             1.00        1.595832\n",
      "6             3.30        2.492273\n",
      "7             4.35        3.975123\n",
      "8             0.95        1.318972\n",
      "9             2.05        2.044261\n",
      "10            4.45        4.200309\n",
      "11            0.01        2.997579\n",
      "12            1.00        3.792670\n",
      "13            2.65        2.459845\n",
      "14            1.45        1.548150\n"
     ]
    }
   ],
   "source": [
    "start = time.time()\n",
    "print('Fun started at: '+ str(datetime.datetime.now()))\n",
    "\n",
    "train_x = train.iloc[:,3:]\n",
    "train_y = train.iloc[:,0]\n",
    "valid_x = valid.iloc[:,3:]\n",
    "valid_y = valid.iloc[:,0]\n",
    "train_xgb = xgb.DMatrix(train_x, label = train_y)\n",
    "valid_xgb = xgb.DMatrix(valid_x)\n",
    "\n",
    "param = {'objective' : 'gpu:reg:linear', 'tree_method':'gpu_hist', 'gpu_id':0, 'seed' :12345, 'eval_metric':'rmse'}\n",
    "\n",
    "model = xgb.train(params = param,\n",
    "                  dtrain = train_xgb,\n",
    "                  num_boost_round = 100)\n",
    "\n",
    "\n",
    "prediction = model.predict(valid_xgb)\n",
    "prediction[prediction < 0.001] = 0\n",
    "\n",
    "results = DataFrame()\n",
    "results['TIP_AMOUNT_ACT'] = valid_y\n",
    "results['TIP_AMOUNT_FOR'] = prediction\n",
    "\n",
    "done = time.time()\n",
    "elapsed = done - start\n",
    "print(datetime.datetime.now())\n",
    "print('Everything done in '+str(elapsed)+' seconds')\n",
    "\n",
    "print(\"Accuracy for model 1: %.2f\" % (mean_absolute_error(valid_y, prediction)))\n",
    "\n",
    "print(results.head(15))"
   ]
  },
  {
   "cell_type": "code",
   "execution_count": 22,
   "metadata": {},
   "outputs": [
    {
     "data": {
      "text/plain": [
       "0.599946361381495"
      ]
     },
     "execution_count": 22,
     "metadata": {},
     "output_type": "execute_result"
    }
   ],
   "source": [
    "#MAPE without zero values\n",
    "results_no0 = results.loc[results.TIP_AMOUNT_ACT != 0]\n",
    "sum(abs(results_no0.TIP_AMOUNT_ACT-results_no0.TIP_AMOUNT_FOR)/results_no0.TIP_AMOUNT_ACT)/results_no0.shape[0]"
   ]
  },
  {
   "cell_type": "markdown",
   "metadata": {},
   "source": [
    "# testing SNAP ML for logistic regression"
   ]
  },
  {
   "cell_type": "code",
   "execution_count": 91,
   "metadata": {},
   "outputs": [],
   "source": [
    "import snap_ml\n",
    "lr = snap_ml.LogisticRegression(use_gpu=True, max_iter=100, dual=True, num_threads=32, device_ids=[0,1,2,3])\n",
    "rr = snap_ml.RidgeRegression(use_gpu=True, max_iter=100, dual=True, num_threads=32, device_ids=[0,1,2,3])"
   ]
  },
  {
   "cell_type": "code",
   "execution_count": 92,
   "metadata": {},
   "outputs": [],
   "source": [
    "train_x = train.iloc[:,3:]\n",
    "train_y = train.iloc[:,1]\n",
    "valid_x = valid.iloc[:,3:]\n",
    "valid_y = valid.iloc[:,1]\n",
    "\n",
    "train_x_np = np.array(train_x)\n",
    "train_y_np = np.array(train_y)\n",
    "valid_x_np = np.array(valid_x)"
   ]
  },
  {
   "cell_type": "code",
   "execution_count": 93,
   "metadata": {},
   "outputs": [],
   "source": [
    "lr.fit(train_x_np, train_y_np)\n",
    "rr.fit(train_x_np, train_y_np)\n",
    "\n",
    "lr_res = lr.predict(valid_x_np)\n",
    "rr_res = rr.predict(valid_x_np)\n",
    "\n",
    "results['DOES_TIP_SNAP_LR'] = lr_res\n",
    "results['DOES_TIP_SNAP_RR'] = rr_res"
   ]
  }
 ],
 "metadata": {
  "kernelspec": {
   "display_name": "Python 3",
   "language": "python",
   "name": "python3"
  },
  "language_info": {
   "codemirror_mode": {
    "name": "ipython",
    "version": 3
   },
   "file_extension": ".py",
   "mimetype": "text/x-python",
   "name": "python",
   "nbconvert_exporter": "python",
   "pygments_lexer": "ipython3",
   "version": "3.6.4"
  },
  "varInspector": {
   "cols": {
    "lenName": 16,
    "lenType": 16,
    "lenVar": 40
   },
   "kernels_config": {
    "python": {
     "delete_cmd_postfix": "",
     "delete_cmd_prefix": "del ",
     "library": "var_list.py",
     "varRefreshCmd": "print(var_dic_list())"
    },
    "r": {
     "delete_cmd_postfix": ") ",
     "delete_cmd_prefix": "rm(",
     "library": "var_list.r",
     "varRefreshCmd": "cat(var_dic_list()) "
    }
   },
   "types_to_exclude": [
    "module",
    "function",
    "builtin_function_or_method",
    "instance",
    "_Feature"
   ],
   "window_display": false
  }
 },
 "nbformat": 4,
 "nbformat_minor": 2
}
